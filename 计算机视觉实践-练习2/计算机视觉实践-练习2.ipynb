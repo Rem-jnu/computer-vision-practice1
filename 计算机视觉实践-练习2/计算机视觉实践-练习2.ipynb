{
 "cells": [
  {
   "cell_type": "code",
   "execution_count": 8,
   "id": "5f85b5b9",
   "metadata": {},
   "outputs": [],
   "source": [
    "import mindspore"
   ]
  },
  {
   "cell_type": "code",
   "execution_count": 9,
   "id": "6d8c531a",
   "metadata": {},
   "outputs": [],
   "source": [
    "from mindvision.dataset import Mnist\n",
    "\n"
   ]
  },
  {
   "cell_type": "code",
   "execution_count": 10,
   "id": "84d1c3e4",
   "metadata": {},
   "outputs": [
    {
     "name": "stderr",
     "output_type": "stream",
     "text": [
      "[WARNING] ME(8748:16720,MainProcess):2024-05-06-12:58:26.223.13 [mindspore\\dataset\\core\\validator_helpers.py:744] 'Resize' from mindspore.dataset.vision.c_transforms is deprecated from version 1.8 and will be removed in a future version. Use 'Resize' from mindspore.dataset.vision instead.\n",
      "[WARNING] ME(8748:16720,MainProcess):2024-05-06-12:58:26.253.22 [mindspore\\dataset\\core\\validator_helpers.py:744] 'Rescale' from mindspore.dataset.vision.c_transforms is deprecated from version 1.8 and will be removed in a future version. Use 'Rescale' from mindspore.dataset.vision instead.\n",
      "[WARNING] ME(8748:16720,MainProcess):2024-05-06-12:58:26.263.25 [mindspore\\dataset\\core\\validator_helpers.py:744] 'Rescale' from mindspore.dataset.vision.c_transforms is deprecated from version 1.8 and will be removed in a future version. Use 'Rescale' from mindspore.dataset.vision instead.\n",
      "[WARNING] ME(8748:16720,MainProcess):2024-05-06-12:58:26.263.25 [mindspore\\dataset\\core\\validator_helpers.py:744] 'HWC2CHW' from mindspore.dataset.vision.c_transforms is deprecated from version 1.8 and will be removed in a future version. Use 'HWC2CHW' from mindspore.dataset.vision instead.\n",
      "[WARNING] ME(8748:16720,MainProcess):2024-05-06-12:58:26.273.27 [mindspore\\dataset\\core\\validator_helpers.py:744] 'Resize' from mindspore.dataset.vision.c_transforms is deprecated from version 1.8 and will be removed in a future version. Use 'Resize' from mindspore.dataset.vision instead.\n",
      "[WARNING] ME(8748:16720,MainProcess):2024-05-06-12:58:26.283.30 [mindspore\\dataset\\core\\validator_helpers.py:744] 'Rescale' from mindspore.dataset.vision.c_transforms is deprecated from version 1.8 and will be removed in a future version. Use 'Rescale' from mindspore.dataset.vision instead.\n",
      "[WARNING] ME(8748:16720,MainProcess):2024-05-06-12:58:26.283.30 [mindspore\\dataset\\core\\validator_helpers.py:744] 'Rescale' from mindspore.dataset.vision.c_transforms is deprecated from version 1.8 and will be removed in a future version. Use 'Rescale' from mindspore.dataset.vision instead.\n",
      "[WARNING] ME(8748:16720,MainProcess):2024-05-06-12:58:26.293.33 [mindspore\\dataset\\core\\validator_helpers.py:744] 'HWC2CHW' from mindspore.dataset.vision.c_transforms is deprecated from version 1.8 and will be removed in a future version. Use 'HWC2CHW' from mindspore.dataset.vision instead.\n"
     ]
    }
   ],
   "source": [
    "# 下载并处理MNIST数据集\n",
    "download_train = Mnist(path=\"./mnist\", split=\"train\", batch_size=32, repeat_num=1, shuffle=True, resize=32, download=True)\n",
    "\n",
    "download_eval = Mnist(path=\"./mnist\", split=\"test\", batch_size=32, resize=32, download=True)\n",
    "\n",
    "dataset_train = download_train.run()\n",
    "dataset_eval = download_eval.run()\n"
   ]
  },
  {
   "cell_type": "code",
   "execution_count": 11,
   "id": "fcdd5b36",
   "metadata": {},
   "outputs": [],
   "source": [
    "# 定义LeNet网络模型如下\n",
    "from mindvision.classification.models import lenet\n",
    "\n",
    "network = lenet(num_classes=10, pretrained=False)\n"
   ]
  },
  {
   "cell_type": "code",
   "execution_count": 12,
   "id": "1bc844c8",
   "metadata": {},
   "outputs": [],
   "source": [
    "import mindspore.nn as nn\n",
    "\n",
    "# 定义损失函数\n",
    "net_loss = nn.SoftmaxCrossEntropyWithLogits(sparse=True, reduction='mean')\n",
    "\n",
    "# 定义优化器函数\n",
    "net_opt = nn.Momentum(network.trainable_params(), learning_rate=0.01, momentum=0.9)\n"
   ]
  },
  {
   "cell_type": "code",
   "execution_count": 13,
   "id": "f1607e60",
   "metadata": {},
   "outputs": [],
   "source": [
    "from mindspore.train.callback import ModelCheckpoint, CheckpointConfig\n",
    "\n",
    "# 设置模型保存参数，模型训练保存参数的step为1875\n",
    "config_ck = CheckpointConfig(save_checkpoint_steps=1875, keep_checkpoint_max=10)\n",
    "\n",
    "# 应用模型保存参数\n",
    "ckpoint = ModelCheckpoint(prefix=\"lenet\", directory=\"./lenet\", config=config_ck)\n"
   ]
  },
  {
   "cell_type": "code",
   "execution_count": 14,
   "id": "f273ec33",
   "metadata": {},
   "outputs": [
    {
     "name": "stdout",
     "output_type": "stream",
     "text": [
      "Epoch:[  0/ 10], step:[ 1875/ 1875], loss:[0.008/0.421], time:9.093 ms, lr:0.01000\n",
      "Epoch time: 10483.270 ms, per step time: 5.591 ms, avg loss: 0.421\n",
      "Epoch:[  1/ 10], step:[ 1875/ 1875], loss:[0.003/0.060], time:11.358 ms, lr:0.01000\n",
      "Epoch time: 10212.165 ms, per step time: 5.446 ms, avg loss: 0.060\n",
      "Epoch:[  2/ 10], step:[ 1875/ 1875], loss:[0.008/0.040], time:10.150 ms, lr:0.01000\n",
      "Epoch time: 10229.906 ms, per step time: 5.456 ms, avg loss: 0.040\n",
      "Epoch:[  3/ 10], step:[ 1875/ 1875], loss:[0.042/0.033], time:9.025 ms, lr:0.01000\n",
      "Epoch time: 10247.235 ms, per step time: 5.465 ms, avg loss: 0.033\n",
      "Epoch:[  4/ 10], step:[ 1875/ 1875], loss:[0.004/0.026], time:10.205 ms, lr:0.01000\n",
      "Epoch time: 10277.554 ms, per step time: 5.481 ms, avg loss: 0.026\n",
      "Epoch:[  5/ 10], step:[ 1875/ 1875], loss:[0.043/0.022], time:8.834 ms, lr:0.01000\n",
      "Epoch time: 10149.154 ms, per step time: 5.413 ms, avg loss: 0.022\n",
      "Epoch:[  6/ 10], step:[ 1875/ 1875], loss:[0.019/0.018], time:10.058 ms, lr:0.01000\n",
      "Epoch time: 10133.844 ms, per step time: 5.405 ms, avg loss: 0.018\n",
      "Epoch:[  7/ 10], step:[ 1875/ 1875], loss:[0.005/0.017], time:9.410 ms, lr:0.01000\n",
      "Epoch time: 10082.350 ms, per step time: 5.377 ms, avg loss: 0.017\n",
      "Epoch:[  8/ 10], step:[ 1875/ 1875], loss:[0.004/0.014], time:9.299 ms, lr:0.01000\n",
      "Epoch time: 10131.793 ms, per step time: 5.404 ms, avg loss: 0.014\n",
      "Epoch:[  9/ 10], step:[ 1875/ 1875], loss:[0.001/0.014], time:9.384 ms, lr:0.01000\n",
      "Epoch time: 10399.359 ms, per step time: 5.546 ms, avg loss: 0.014\n"
     ]
    }
   ],
   "source": [
    "# 通过MindSpore提供的model.train接口可以方便地进行网络的训练，LossMonitor可以监控训练过程中loss值的变化\n",
    "from mindvision.engine.callback import LossMonitor\n",
    "from mindspore.train import Model\n",
    "\n",
    "# 初始化模型参数\n",
    "model = Model(network, loss_fn=net_loss, optimizer=net_opt, metrics={'accuracy'})\n",
    "\n",
    "# 训练网络模型，并保存为lenet-1_1875.ckpt文件\n",
    "model.train(10, dataset_train, callbacks=[ckpoint, LossMonitor(0.01, 1875)])\n"
   ]
  },
  {
   "cell_type": "code",
   "execution_count": 15,
   "id": "b7079d07",
   "metadata": {},
   "outputs": [
    {
     "name": "stdout",
     "output_type": "stream",
     "text": [
      "{'accuracy': 0.9898838141025641}\n"
     ]
    }
   ],
   "source": [
    "# 通过模型运行测试数据集得到的结果，验证模型的泛化能力：\n",
    "# 使用model.eval接口读入测试数据集\n",
    "# 使用保存后的模型参数进行推理\n",
    "acc = model.eval(dataset_eval)\n",
    "\n",
    "print(\"{}\".format(acc))\n"
   ]
  },
  {
   "cell_type": "code",
   "execution_count": 16,
   "id": "c4662fbe",
   "metadata": {},
   "outputs": [
    {
     "data": {
      "text/plain": [
       "([],\n",
       " ['global_step',\n",
       "  'learning_rate',\n",
       "  'momentum',\n",
       "  'moments.backbone.conv1.weight',\n",
       "  'moments.backbone.conv2.weight',\n",
       "  'moments.backbone.fc1.weight',\n",
       "  'moments.backbone.fc1.bias',\n",
       "  'moments.backbone.fc2.weight',\n",
       "  'moments.backbone.fc2.bias',\n",
       "  'moments.backbone.fc3.weight',\n",
       "  'moments.backbone.fc3.bias'])"
      ]
     },
     "execution_count": 16,
     "metadata": {},
     "output_type": "execute_result"
    }
   ],
   "source": [
    "from mindspore import load_checkpoint, load_param_into_net\n",
    "\n",
    "# 加载已经保存的用于测试的模型\n",
    "param_dict = load_checkpoint(\"./lenet/lenet-1_1875.ckpt\")\n",
    "# 加载参数到网络中\n",
    "load_param_into_net(network, param_dict)\n"
   ]
  },
  {
   "cell_type": "code",
   "execution_count": 17,
   "id": "485d7025",
   "metadata": {},
   "outputs": [
    {
     "name": "stderr",
     "output_type": "stream",
     "text": [
      "[WARNING] ME(8748:16720,MainProcess):2024-05-06-13:04:48.309.58 [mindspore\\dataset\\core\\validator_helpers.py:744] 'Resize' from mindspore.dataset.vision.c_transforms is deprecated from version 1.8 and will be removed in a future version. Use 'Resize' from mindspore.dataset.vision instead.\n",
      "[WARNING] ME(8748:16720,MainProcess):2024-05-06-13:04:48.319.61 [mindspore\\dataset\\core\\validator_helpers.py:744] 'Rescale' from mindspore.dataset.vision.c_transforms is deprecated from version 1.8 and will be removed in a future version. Use 'Rescale' from mindspore.dataset.vision instead.\n",
      "[WARNING] ME(8748:16720,MainProcess):2024-05-06-13:04:48.323.07 [mindspore\\dataset\\core\\validator_helpers.py:744] 'Rescale' from mindspore.dataset.vision.c_transforms is deprecated from version 1.8 and will be removed in a future version. Use 'Rescale' from mindspore.dataset.vision instead.\n",
      "[WARNING] ME(8748:16720,MainProcess):2024-05-06-13:04:48.329.63 [mindspore\\dataset\\core\\validator_helpers.py:744] 'HWC2CHW' from mindspore.dataset.vision.c_transforms is deprecated from version 1.8 and will be removed in a future version. Use 'HWC2CHW' from mindspore.dataset.vision instead.\n"
     ]
    },
    {
     "data": {
      "image/png": "[encoded data removed]",
      "text/plain": [
       "<Figure size 640x480 with 6 Axes>"
      ]
     },
     "metadata": {},
     "output_type": "display_data"
    },
    {
     "name": "stdout",
     "output_type": "stream",
     "text": [
      "Predicted: \"[3 9 8 1 4 9]\", Actual: \"[3 9 8 1 4 9]\"\n"
     ]
    }
   ],
   "source": [
    "import numpy as np\n",
    "from mindspore import Tensor\n",
    "import matplotlib.pyplot as plt\n",
    "\n",
    "mnist = Mnist(\"./mnist\", split=\"train\", batch_size=6, resize=32)\n",
    "dataset_infer = mnist.run()\n",
    "ds_test = dataset_infer.create_dict_iterator()\n",
    "data = next(ds_test)\n",
    "images = data[\"image\"].asnumpy()\n",
    "labels = data[\"label\"].asnumpy()\n",
    "\n",
    "plt.figure()\n",
    "for i in range(1, 7):\n",
    "    plt.subplot(2, 3, i)\n",
    "    plt.imshow(images[i-1][0], interpolation=\"None\", cmap=\"gray\")\n",
    "plt.show()\n",
    "\n",
    "# 使用函数model.predict预测image对应分类\n",
    "output = model.predict(Tensor(data['image']))\n",
    "predicted = np.argmax(output.asnumpy(), axis=1)\n",
    "\n",
    "# 输出预测分类与实际分类\n",
    "print(f'Predicted: \"{predicted}\", Actual: \"{labels}\"')\n",
    "# 从下面打印结果可以看出，预测值与目标值完全一致。"
   ]
  },
  {
   "cell_type": "code",
   "execution_count": 18,
   "id": "df24fbbf",
   "metadata": {},
   "outputs": [],
   "source": []
  },
  {
   "cell_type": "code",
   "execution_count": null,
   "id": "6e07e499",
   "metadata": {},
   "outputs": [],
   "source": []
  }
 ],
 "metadata": {
  "kernelspec": {
   "display_name": "mindspore",
   "language": "python",
   "name": "mindspore"
  },
  "language_info": {
   "codemirror_mode": {
    "name": "ipython",
    "version": 3
   },
   "file_extension": ".py",
   "mimetype": "text/x-python",
   "name": "python",
   "nbconvert_exporter": "python",
   "pygments_lexer": "ipython3",
   "version": "3.7.5"
  }
 },
 "nbformat": 4,
 "nbformat_minor": 5
}
